{
 "cells": [
  {
   "cell_type": "markdown",
   "id": "36441c4f",
   "metadata": {},
   "source": [
    "# Sprawozdanie POI ćwiczenie 2"
   ]
  },
  {
   "cell_type": "markdown",
   "id": "a6753b7f",
   "metadata": {},
   "source": [
    "### 1. Cel ćwiczenia:"
   ]
  },
  {
   "cell_type": "markdown",
   "id": "8c73f962",
   "metadata": {},
   "source": [
    "Celem ćwiczenia było zapoznanie się z metodami ekstracji cech pozwalających na klasyfikację wektorów danych. Zadanie należało wykonać za pomocą języka programowania Pyton. Następnie klasyfikacja została wykonana za pomocą zewnętrznych bibliotek dostępnych dla tego języka."
   ]
  },
  {
   "cell_type": "markdown",
   "id": "c1bd146a",
   "metadata": {},
   "source": [
    "### 2. Wstęp teoretyczny "
   ]
  },
  {
   "cell_type": "markdown",
   "id": "9030a010",
   "metadata": {},
   "source": [
    "#### 2.1 Wektor cech"
   ]
  },
  {
   "cell_type": "markdown",
   "id": "7feee6eb",
   "metadata": {},
   "source": [
    "Wektorem cech nazywamy n-wymiarowy wektor cech zapisanych w postaci numerycznej, które opisują obiekt w rozpoznawaniu wzorcó w uczeniu maszynowym. Powszechnie wektory cech są wykorzystywane przez wiele algorytmów uczenia maszynowego. Ułatwiają one przetwarzanie i analizę statystyczną obiektów."
   ]
  },
  {
   "cell_type": "markdown",
   "id": "1ffcbe29",
   "metadata": {},
   "source": [
    "#### 2.2 Ekstrakcja wektora cech"
   ]
  },
  {
   "cell_type": "markdown",
   "id": "1d2b20c0",
   "metadata": {},
   "source": [
    "W celu otrzymania wektora cech z danego obiektu należy wcześniej dokonać jego ekstrakcji. Początkowo należy określić podzbiór cech na podstawie, których będzie dokonywana dalsza analiza. Ten proces nazywany jest selekcją cech. Zakłada się, że wybrane cechy będą zawierały odpowiednie informacje z danch wejściowych, tak by zredukować liczbę potrzebnych dancyh, a jednocześnie dokonać poprawnej analizy dancyh. Ekstrakcję wektorów cech wykorzytuje się w przypadku posiadaniu dużej ilości danych dla obiektu. "
   ]
  },
  {
   "cell_type": "markdown",
   "id": "0c6ea90b",
   "metadata": {},
   "source": [
    "### 3. Eksperymenty"
   ]
  },
  {
   "cell_type": "markdown",
   "id": "96a6dd85",
   "metadata": {},
   "source": [
    "Eksperyment polegał na klasyfikacji zdjęć na podstawie wektorów cech dla trzech różnych materiałów: podłogi, ściany oraz biurka. Na podstawie analizy zdjęć utworzono wektor cech (przedstawiony poniżej w tabeli). Do wybrancyh cech należą: Contrast, Energy, Homogeneity, Correlation, Dissimilarity, ASM."
   ]
  },
  {
   "cell_type": "markdown",
   "id": "4f30763f",
   "metadata": {},
   "source": [
    "|Texture|Contrast|Energy |Homogeneity|Correlation|Dissimilarity|ASM    |\n",
    "|-------|--------|-------|-----------|-----------|-------------|-------|\n",
    "|desk   |33.38403|0.0349 |0.22355    |0.90694    |4.28452      |0.00122|\n",
    "|desk   |47.12468|0.02894|0.18753    |0.90798    |5.15209      |0.00084|\n",
    "|desk   |31.30566|0.03656|0.23721    |0.91027    |4.09579      |0.00134|\n",
    "|desk   |35.1643 |0.0357 |0.21844    |0.89563    |4.37578      |0.00127|\n",
    "|desk   |38.83086|0.03435|0.20812    |0.89559    |4.65491      |0.00118|\n",
    "|desk   |32.15401|0.0357 |0.22228    |0.90272    |4.24738      |0.00127|\n",
    "|desk   |26.80024|0.03813|0.23872    |0.91349    |3.88834      |0.00145|\n",
    "|desk   |31.52012|0.03594|0.22603    |0.90548    |4.18699      |0.00129|\n",
    "|desk   |38.91221|0.03346|0.20532    |0.89099    |4.67884      |0.00112|\n",
    "|desk   |35.25674|0.03609|0.22237    |0.89176    |4.38266      |0.0013 |\n",
    "|floor  |6.4893  |0.08269|0.43059    |0.91016    |1.81871      |0.00684|\n",
    "|floor  |5.8215  |0.08443|0.42808    |0.90637    |1.77004      |0.00713|\n",
    "|floor  |10.20082|0.07498|0.38699    |0.87744    |2.21148      |0.00562|\n",
    "|floor  |7.21551 |0.08518|0.43317    |0.91085    |1.85362      |0.00726|\n",
    "|floor  |5.96144 |0.09444|0.45794    |0.89206    |1.70215      |0.00892|\n",
    "|floor  |6.24391 |0.08709|0.43253    |0.89027    |1.79664      |0.00758|\n",
    "|floor  |4.94073 |0.09364|0.4562     |0.90359    |1.62         |0.00877|\n",
    "|floor  |5.86968 |0.09014|0.43321    |0.89559    |1.75882      |0.00812|\n",
    "|floor  |5.40083 |0.09478|0.4609     |0.89709    |1.64722      |0.00898|\n",
    "|floor  |5.07198 |0.0965 |0.46357    |0.89029    |1.60816      |0.00931|\n",
    "|wall   |18.86478|0.06192|0.29183    |0.81352    |3.14117      |0.00383|\n",
    "|wall   |9.7316  |0.07533|0.35411    |0.86495    |2.3082       |0.00567|\n",
    "|wall   |10.496  |0.07118|0.3404     |0.867      |2.43016      |0.00507|\n",
    "|wall   |7.96888 |0.08412|0.37662    |0.85593    |2.10528      |0.00708|\n",
    "|wall   |8.54988 |0.07875|0.36146    |0.86324    |2.20937      |0.0062 |\n",
    "|wall   |19.21973|0.05906|0.27391    |0.81222    |3.28979      |0.00349|\n",
    "|wall   |12.43667|0.07552|0.35803    |0.85585    |2.47151      |0.0057 |\n",
    "|wall   |12.18792|0.06774|0.33268    |0.87708    |2.56116      |0.00459|\n",
    "|wall   |11.98568|0.06758|0.33005    |0.87312    |2.581        |0.00457|\n",
    "|wall   |11.85498|0.0705 |0.33357    |0.85242    |2.54108      |0.00497|"
   ]
  },
  {
   "cell_type": "markdown",
   "id": "4892bc30",
   "metadata": {},
   "source": [
    "Wykorzystując funkcję train_test_split z biblioteki sklearn wyodrębniono zbiór treningowy oraz testowy ze zbioru wektorów cech. Zbiór treningowy stanowił 70% zbioru danych, a pozostałe 30% stanowił zbiór testowy. Poniżej umieszczono zbiór treningowy oraz testowy."
   ]
  },
  {
   "cell_type": "markdown",
   "id": "a8da714c",
   "metadata": {},
   "source": [
    "Zbiór treningowy"
   ]
  },
  {
   "cell_type": "markdown",
   "id": "8557b35e",
   "metadata": {},
   "source": [
    "|Texture|Contrast|Energy |Homogeneity|Correlation|Dissimilarity|ASM    |\n",
    "|-------|--------|-------|-----------|-----------|-------------|-------|\n",
    "|9.7316  |0.07533|0.35411|0.86495|2.3082 |0.00567|wall |\n",
    "|11.98568|0.06758|0.33005|0.87312|2.581  |0.00457|wall |\n",
    "|33.38403|0.0349 |0.22355|0.90694|4.28452|0.00122|desk |\n",
    "|5.86968 |0.09014|0.43321|0.89559|1.75882|0.00812|floor|\n",
    "|32.15401|0.0357 |0.22228|0.90272|4.24738|0.00127|desk |\n",
    "|47.12468|0.02894|0.18753|0.90798|5.15209|0.00084|desk |\n",
    "|12.18792|0.06774|0.33268|0.87708|2.56116|0.00459|wall |\n",
    "|10.20082|0.07498|0.38699|0.87744|2.21148|0.00562|floor|\n",
    "|18.86478|0.06192|0.29183|0.81352|3.14117|0.00383|wall |\n",
    "|5.07198 |0.0965 |0.46357|0.89029|1.60816|0.00931|floor|\n",
    "|8.54988 |0.07875|0.36146|0.86324|2.20937|0.0062 |wall |\n",
    "|31.52012|0.03594|0.22603|0.90548|4.18699|0.00129|desk |\n",
    "|38.83086|0.03435|0.20812|0.89559|4.65491|0.00118|desk |\n",
    "|38.91221|0.03346|0.20532|0.89099|4.67884|0.00112|desk |\n",
    "|35.25674|0.03609|0.22237|0.89176|4.38266|0.0013 |desk |\n",
    "|4.94073 |0.09364|0.4562 |0.90359|1.62   |0.00877|floor|\n",
    "|10.496  |0.07118|0.3404 |0.867  |2.43016|0.00507|wall |\n",
    "|26.80024|0.03813|0.23872|0.91349|3.88834|0.00145|desk |\n",
    "|6.24391 |0.08709|0.43253|0.89027|1.79664|0.00758|floor|\n",
    "|5.96144 |0.09444|0.45794|0.89206|1.70215|0.00892|floor|\n",
    "|35.1643 |0.0357 |0.21844|0.89563|4.37578|0.00127|desk |\n",
    "   \n",
    "    "
   ]
  },
  {
   "cell_type": "markdown",
   "id": "6600532a",
   "metadata": {},
   "source": [
    "Zbiór testowy"
   ]
  },
  {
   "cell_type": "markdown",
   "id": "e92be702",
   "metadata": {},
   "source": [
    "|Texture|Contrast|Energy |Homogeneity|Correlation|Dissimilarity|ASM    |\n",
    "|-------|--------|-------|-----------|-----------|-------------|-------|\n",
    "|5.8215  |0.08443|0.42808|0.90637|1.77004|0.00713|floor|\n",
    "|11.85498|0.0705 |0.33357|0.85242|2.54108|0.00497|wall |\n",
    "|7.96888 |0.08412|0.37662|0.85593|2.10528|0.00708|wall |\n",
    "|19.21973|0.05906|0.27391|0.81222|3.28979|0.00349|wall |\n",
    "|5.40083 |0.09478|0.4609 |0.89709|1.64722|0.00898|floor|\n",
    "|6.4893  |0.08269|0.43059|0.91016|1.81871|0.00684|floor|\n",
    "|31.30566|0.03656|0.23721|0.91027|4.09579|0.00134|desk |\n",
    "|7.21551 |0.08518|0.43317|0.91085|1.85362|0.00726|floor|\n",
    "|12.43667|0.07552|0.35803|0.85585|2.47151|0.0057 |wall |"
   ]
  },
  {
   "cell_type": "markdown",
   "id": "39fdb223",
   "metadata": {},
   "source": [
    "Na podstawie zbioru treningowego został dopasowany klasyfikator. Za pomocą tego samego klasyfikatora została przeprowadzono klasyfikacja zbioru testowego. Dokładnosć klasyfikatora dla przeprowadzonej klasyfikacji wynosiła 1.0. Macierz pomyłek dla tej samej klasyfikacji została przedstawiona na poniższym diagramie."
   ]
  },
  {
   "cell_type": "markdown",
   "id": "0d394b74",
   "metadata": {},
   "source": [
    "![Diagram](myplot.png)"
   ]
  },
  {
   "cell_type": "markdown",
   "id": "1e08b23f",
   "metadata": {},
   "source": [
    "### 4. Wnioski"
   ]
  },
  {
   "cell_type": "markdown",
   "id": "d7c0e296",
   "metadata": {},
   "source": [
    "Na podstawie otrzymanych wyników oraz ich analizy można stwierdzić że cel zadania został osiagnięty. Wektory cech zostały utworzone poprawnie ponieważ program dokonał prawidłowej klasyfikacji obiektów. Dokładność klasyfikatora wynosiła 1.0, co oznacza, że wszystkie obiekty zostały poprawnie sklasyfikowane. Na podstawie macierzy pomyłek, również można stwierdzić, że wszystkie testowane obiekty zostały prawidłowo sklasyfikowane, ponieważ stan faktyczny klasyfikacji i stan prewidywany były sobie równe. "
   ]
  }
 ],
 "metadata": {
  "kernelspec": {
   "display_name": "Python 3 (ipykernel)",
   "language": "python",
   "name": "python3"
  },
  "language_info": {
   "codemirror_mode": {
    "name": "ipython",
    "version": 3
   },
   "file_extension": ".py",
   "mimetype": "text/x-python",
   "name": "python",
   "nbconvert_exporter": "python",
   "pygments_lexer": "ipython3",
   "version": "3.9.7"
  }
 },
 "nbformat": 4,
 "nbformat_minor": 5
}
